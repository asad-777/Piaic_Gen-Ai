{
  "nbformat": 4,
  "nbformat_minor": 0,
  "metadata": {
    "colab": {
      "provenance": [],
      "authorship_tag": "ABX9TyM3s5O6JxnE94zANVJ4SmMc",
      "include_colab_link": true
    },
    "kernelspec": {
      "name": "python3",
      "display_name": "Python 3"
    },
    "language_info": {
      "name": "python"
    }
  },
  "cells": [
    {
      "cell_type": "markdown",
      "metadata": {
        "id": "view-in-github",
        "colab_type": "text"
      },
      "source": [
        "<a href=\"https://colab.research.google.com/github/asad-777/Piaic_Gen-Ai/blob/main/Untitled1.ipynb\" target=\"_parent\"><img src=\"https://colab.research.google.com/assets/colab-badge.svg\" alt=\"Open In Colab\"/></a>"
      ]
    },
    {
      "cell_type": "code",
      "execution_count": 6,
      "metadata": {
        "id": "bmlcuclfCoUV"
      },
      "outputs": [],
      "source": [
        "!pip install -q -U google.generativeai"
      ]
    },
    {
      "cell_type": "code",
      "source": [
        "from google.colab import userdata\n",
        "import requests\n",
        "from PIL import Image\n",
        "from io import BytesIO\n",
        "from IPython.display import display\n",
        "api_key = userdata.get('GEMINI_API_KEY')\n",
        "import google.generativeai as genai\n",
        "genai.configure(api_key=api_key)\n",
        "model = genai.GenerativeModel(\"gemini-1.5-flash\")\n",
        "url :str = \"https://encrypted-tbn0.gstatic.com/images?q=tbn:ANd9GcRdhHe79aHGHO5SfYZ01rniGOn7--_yPBXC4HIlynkunrmLLU3rli-La4uyaHQq76-ywBUL6RDQ_qzZ4FxW39LM4ERCN9balNn4FJwRUQ\"\n",
        "response = requests.get(url)\n",
        "img = Image.open(BytesIO(response.content))\n",
        "temperature = 0.5\n",
        "top_p = 0.5\n",
        "prompt :str = \"describe the provided image in detail\"\n",
        "answer = model.generate_content((prompt,img),generation_config={\"temperature\": temperature, \"top_p\": top_p})\n",
        "\n",
        "print(answer.text)"
      ],
      "metadata": {
        "colab": {
          "base_uri": "https://localhost:8080/",
          "height": 297
        },
        "id": "9w3VUziIDAO9",
        "outputId": "c4effe0b-7a54-4bf3-d8d2-58df75fc30f6"
      },
      "execution_count": 49,
      "outputs": [
        {
          "output_type": "stream",
          "name": "stdout",
          "text": [
            "That's a close-up shot of Cristiano Ronaldo, the famous Portuguese footballer, in action. \n",
            "\n",
            "\n",
            "Here's a breakdown of the image:\n",
            "\n",
            "* **Ronaldo:** He's the central focus, taking up most of the frame. He's depicted with his mouth open in a shout or roar of celebration, his right fist raised in triumph. His expression is one of intense emotion and joy.  His face shows concentration and exertion.\n",
            "\n",
            "* **Attire:** He's wearing a long-sleeved red Portugal national team jersey with the Nike swoosh logo visible on the chest. The number 7 is prominently displayed on his shirt. A black armband is visible on his left upper arm.\n",
            "\n",
            "* **Background:** The background is blurred, indicating a shallow depth of field that keeps the focus on Ronaldo. It shows a stadium setting with hints of green grass and stands, suggesting a football match is in progress. The colors in the background are muted and less saturated than Ronaldo's jersey, further emphasizing him as the subject.  There are glimpses of what appear to be red and white stands or banners.\n",
            "\n",
            "* **Lighting:** The lighting appears to be stadium lighting, fairly bright and focused on Ronaldo, highlighting his features and the texture of his jersey.\n",
            "\n",
            "Overall, the image captures a dynamic moment of celebration and victory, showcasing Ronaldo's energy and passion for the game. The shallow depth of field and the vibrant red of his jersey against the blurred background create a visually striking and impactful photograph.\n",
            "\n"
          ]
        }
      ]
    }
  ]
}