{
  "nbformat": 4,
  "nbformat_minor": 0,
  "metadata": {
    "colab": {
      "provenance": [],
      "authorship_tag": "ABX9TyP68nvYutgBf3YZvnwr8+uj",
      "include_colab_link": true
    },
    "kernelspec": {
      "name": "python3",
      "display_name": "Python 3"
    },
    "language_info": {
      "name": "python"
    }
  },
  "cells": [
    {
      "cell_type": "markdown",
      "metadata": {
        "id": "view-in-github",
        "colab_type": "text"
      },
      "source": [
        "<a href=\"https://colab.research.google.com/github/asad-777/Piaic_Gen-Ai/blob/main/Video_Audio_Gemini.ipynb\" target=\"_parent\"><img src=\"https://colab.research.google.com/assets/colab-badge.svg\" alt=\"Open In Colab\"/></a>"
      ]
    },
    {
      "cell_type": "code",
      "source": [
        "!pip install -q -U google-genai"
      ],
      "metadata": {
        "id": "W6Tznf3uOgro"
      },
      "execution_count": 9,
      "outputs": []
    },
    {
      "cell_type": "code",
      "source": [
        "!pip install -q -U gTTS"
      ],
      "metadata": {
        "id": "kaUpNOmoOpQe"
      },
      "execution_count": 5,
      "outputs": []
    },
    {
      "cell_type": "code",
      "source": [
        "!pip install -q -U playsound"
      ],
      "metadata": {
        "colab": {
          "base_uri": "https://localhost:8080/"
        },
        "id": "6BrxQDOyO2v4",
        "outputId": "393899d3-7906-417a-ff78-f4a5e41d424b"
      },
      "execution_count": 6,
      "outputs": [
        {
          "output_type": "stream",
          "name": "stdout",
          "text": [
            "  Preparing metadata (setup.py) ... \u001b[?25l\u001b[?25hdone\n",
            "  Building wheel for playsound (setup.py) ... \u001b[?25l\u001b[?25hdone\n"
          ]
        }
      ]
    },
    {
      "cell_type": "code",
      "execution_count": 2,
      "metadata": {
        "id": "vdxc1OITJz6C"
      },
      "outputs": [],
      "source": [
        "from google.colab import userdata\n",
        "api_key=userdata.get('GEMINI_API_KEY')"
      ]
    },
    {
      "cell_type": "code",
      "source": [
        "from google import genai\n",
        "from google.genai import Client\n",
        "import time\n",
        "from google.genai.types import Content, Part"
      ],
      "metadata": {
        "id": "bDaE8yHdPz7-"
      },
      "execution_count": 42,
      "outputs": []
    },
    {
      "cell_type": "code",
      "source": [
        "client = genai.Client(\n",
        "    api_key=api_key\n",
        ")"
      ],
      "metadata": {
        "id": "qzjHVQnWP2ZR"
      },
      "execution_count": 24,
      "outputs": []
    },
    {
      "cell_type": "code",
      "source": [
        "model = \"gemini-2.0-flash-exp\""
      ],
      "metadata": {
        "id": "t77pnYx1Qmn5"
      },
      "execution_count": 25,
      "outputs": []
    },
    {
      "cell_type": "code",
      "source": [
        "video_file_name = \"/content/videoplayback.mp4\"\n",
        "\n",
        "# upload your video here, i uploaded a youtube video for example"
      ],
      "metadata": {
        "id": "Hj-P3LFyRNuY"
      },
      "execution_count": 26,
      "outputs": []
    },
    {
      "cell_type": "code",
      "source": [
        "def upload_video(video_file_name):\n",
        "  video_file = client.files.upload(path=video_file_name)\n",
        "  while video_file.state == \"PROCESSING\":\n",
        "    print(\"Please Wait !\")\n",
        "    time.sleep(5)\n",
        "    video_file = client.files.get(name=video_file.name or \"\")\n",
        "\n",
        "  if video_file.state == \"FAILED\":\n",
        "    raise ValueError(video_file.state)\n",
        "  print(\"Video processing complete\", (video_file.uri or \"\"))\n",
        "\n",
        "  return video_file\n",
        "\n",
        "my_vid = upload_video(video_file_name)"
      ],
      "metadata": {
        "colab": {
          "base_uri": "https://localhost:8080/"
        },
        "id": "WwYa3_yTRd1W",
        "outputId": "ff0c6198-eb19-465c-db9a-aebe290339bc"
      },
      "execution_count": 29,
      "outputs": [
        {
          "output_type": "stream",
          "name": "stdout",
          "text": [
            "Please Wait !\n",
            "Video processing complete https://generativelanguage.googleapis.com/v1beta/files/xf6zmvgmvcu8\n"
          ]
        }
      ]
    },
    {
      "cell_type": "code",
      "source": [
        "prompt = \"For each scene in this video, generate a caption for it, at the end, summarize all the captions and generate a description for it\""
      ],
      "metadata": {
        "id": "yNAtp-j2VivC"
      },
      "execution_count": 36,
      "outputs": []
    },
    {
      "cell_type": "code",
      "source": [
        "video = my_vid"
      ],
      "metadata": {
        "id": "GiECu1VRYJCK"
      },
      "execution_count": 37,
      "outputs": []
    },
    {
      "cell_type": "code",
      "source": [
        "response = client.models.generate_content(\n",
        "    model=model,\n",
        "    contents=[\n",
        "        Content(\n",
        "            role = \"user\",\n",
        "            parts = [\n",
        "                Part.from_uri(\n",
        "                    file_uri=video.uri or \"\",\n",
        "                    mime_type=video.mime_type or \"\",\n",
        "\n",
        "                )\n",
        "            ]\n",
        "        ),\n",
        "        prompt,\n",
        "    ]\n",
        ")\n",
        "\n",
        "print(response.text)"
      ],
      "metadata": {
        "colab": {
          "base_uri": "https://localhost:8080/"
        },
        "id": "G0KERqcWYhiC",
        "outputId": "2bcb4263-ec88-487b-abcd-b12e62e3a242"
      },
      "execution_count": 44,
      "outputs": [
        {
          "output_type": "stream",
          "name": "stdout",
          "text": [
            "Certainly! Here are the captions for each scene and a final summary:\n",
            "\n",
            "**Captions:**\n",
            "\n",
            "[00:00:00-00:00:22]  A man wearing a yellow t-shirt introduces himself and says he's from Pune, India. He mentions he's taking the CS50 introduction to computer science course. He also mentions that he is learning to understand the basics of computer science and wants to solve real world problems and create wonderful softwares. He ends the video by saying his name is Ankit Solanki and that he is taking CS50.\n",
            "\n",
            "**Summary of Captions:**\n",
            "A man from Pune, India, is taking an introductory computer science course. He aims to grasp the fundamentals of the subject, solve real-world issues, and create software. The video ends with his introduction.\n",
            "\n",
            "**Description**\n",
            "\n",
            "This video features a man from Pune, India, introducing himself and sharing his reason for taking the CS50 Introduction to Computer Science course. He states his motivation to understand the basics, solve real-world problems, and create software. The video serves as a brief introduction to the person and his objective for the course.\n"
          ]
        }
      ]
    }
  ]
}