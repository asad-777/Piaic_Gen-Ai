{
 "cells": [
  {
   "cell_type": "code",
   "execution_count": 98,
   "metadata": {},
   "outputs": [],
   "source": [
    "class student:\n",
    "\n",
    "    total_students:int = 0\n",
    "\n",
    "    def __init__(self,name,math,english,science):\n",
    "        self.name = name\n",
    "        self.science = science\n",
    "        self.math = math \n",
    "        self.english = english\n",
    "        student.total_students += 1\n",
    "\n",
    "    def display(self):\n",
    "        print(f\"name = {self.name}, marks = [{self.math},{self.english},{self.science}]\")\n"
   ]
  },
  {
   "cell_type": "code",
   "execution_count": 99,
   "metadata": {},
   "outputs": [],
   "source": [
    "def check_marks(mark):\n",
    "    try:\n",
    "        mark = int(mark)\n",
    "        if mark >= 0 and mark <= 100:\n",
    "            return mark\n",
    "        else:   \n",
    "            print(\"Please Enter Marks Between 0 and 100\")\n",
    "            return None\n",
    "    except ValueError:\n",
    "        print(\"Please Enter a valid number\")\n",
    "        return None\n"
   ]
  },
  {
   "cell_type": "code",
   "execution_count": 100,
   "metadata": {},
   "outputs": [],
   "source": [
    "def get_input() -> list:\n",
    "\n",
    "    list = []\n",
    "    while True:\n",
    "        g1 = input(\"Enter Marks for math:\")\n",
    "        g1_c = check_marks(g1)\n",
    "        if g1_c is not None: break\n",
    "    while True:\n",
    "        g2 = input(\"Enter Marks for english:\")\n",
    "        g2_c = check_marks(g2)\n",
    "        if g2_c is not None: break\n",
    "    while True:\n",
    "        g3 = input(\"Enter Marks for science:\")\n",
    "        g3_c = check_marks(g3)\n",
    "        if g3_c is not None: break\n",
    "\n",
    "\n",
    "\n",
    "    list.append(g1_c)\n",
    "    list.append(g2_c)\n",
    "    list.append(g3_c)\n",
    "    return list"
   ]
  },
  {
   "cell_type": "code",
   "execution_count": 101,
   "metadata": {},
   "outputs": [],
   "source": [
    "s = []"
   ]
  },
  {
   "cell_type": "code",
   "execution_count": 102,
   "metadata": {},
   "outputs": [],
   "source": [
    "for x in range(2):\n",
    "    name = input(\"Enter your name: \")\n",
    "    grades = get_input()\n",
    "    new_object = student(name,grades[0],grades[1],grades[2])\n",
    "    s.append(new_object)\n"
   ]
  },
  {
   "cell_type": "code",
   "execution_count": 103,
   "metadata": {},
   "outputs": [
    {
     "name": "stdout",
     "output_type": "stream",
     "text": [
      "name = asad, marks = [1,2,3]\n",
      "name = ali, marks = [12,13,14]\n"
     ]
    }
   ],
   "source": [
    "for x in s:\n",
    "    x.display()"
   ]
  }
 ],
 "metadata": {
  "kernelspec": {
   "display_name": "Python 3",
   "language": "python",
   "name": "python3"
  },
  "language_info": {
   "codemirror_mode": {
    "name": "ipython",
    "version": 3
   },
   "file_extension": ".py",
   "mimetype": "text/x-python",
   "name": "python",
   "nbconvert_exporter": "python",
   "pygments_lexer": "ipython3",
   "version": "3.12.4"
  }
 },
 "nbformat": 4,
 "nbformat_minor": 2
}
