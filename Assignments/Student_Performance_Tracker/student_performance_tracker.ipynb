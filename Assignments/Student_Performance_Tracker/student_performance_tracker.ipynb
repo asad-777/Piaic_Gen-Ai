{
 "cells": [
  {
   "cell_type": "code",
   "execution_count": 112,
   "metadata": {},
   "outputs": [],
   "source": [
    "class student:\n",
    "\n",
    "    total_students:int = 0\n",
    "\n",
    "    def __init__(self,name,math,english,science):\n",
    "        self.name = name\n",
    "        self.science = science\n",
    "        self.math = math \n",
    "        self.english = english\n",
    "        student.total_students += 1\n",
    "\n",
    "    def average(self):\n",
    "        return (self.math + self.english + self.science) / 3\n",
    "    \n",
    "\n"
   ]
  },
  {
   "cell_type": "code",
   "execution_count": 99,
   "metadata": {},
   "outputs": [],
   "source": [
    "def check_marks(mark):\n",
    "    try:\n",
    "        mark = int(mark)\n",
    "        if mark >= 0 and mark <= 100:\n",
    "            return mark\n",
    "        else:   \n",
    "            print(\"Please Enter Marks Between 0 and 100\")\n",
    "            return None\n",
    "    except ValueError:\n",
    "        print(\"Please Enter a valid number\")\n",
    "        return None\n"
   ]
  },
  {
   "cell_type": "code",
   "execution_count": 100,
   "metadata": {},
   "outputs": [],
   "source": [
    "def get_input() -> list:\n",
    "\n",
    "    list = []\n",
    "    while True:\n",
    "        g1 = input(\"Enter Marks for math:\")\n",
    "        g1_c = check_marks(g1)\n",
    "        if g1_c is not None: break\n",
    "    while True:\n",
    "        g2 = input(\"Enter Marks for english:\")\n",
    "        g2_c = check_marks(g2)\n",
    "        if g2_c is not None: break\n",
    "    while True:\n",
    "        g3 = input(\"Enter Marks for science:\")\n",
    "        g3_c = check_marks(g3)\n",
    "        if g3_c is not None: break\n",
    "\n",
    "\n",
    "\n",
    "    list.append(g1_c)\n",
    "    list.append(g2_c)\n",
    "    list.append(g3_c)\n",
    "    return list"
   ]
  },
  {
   "cell_type": "code",
   "execution_count": 143,
   "metadata": {},
   "outputs": [],
   "source": [
    "s = []"
   ]
  },
  {
   "cell_type": "code",
   "execution_count": 142,
   "metadata": {},
   "outputs": [],
   "source": [
    "def input_name():\n",
    "\n",
    "    while True:\n",
    "        name = input(\"Enter your name: \")\n",
    "        for x in s:\n",
    "            if x.name == name:\n",
    "                print(\"Sorry that name already exists\")\n",
    "                continue\n",
    "        return name\n",
    "        break"
   ]
  },
  {
   "cell_type": "code",
   "execution_count": 136,
   "metadata": {},
   "outputs": [],
   "source": [
    "def add_student():\n",
    "    name = input_name()\n",
    "    grades = get_input()\n",
    "    new_object = student(name,grades[0],grades[1],grades[2])\n",
    "    s.append(new_object)\n"
   ]
  },
  {
   "cell_type": "code",
   "execution_count": 130,
   "metadata": {},
   "outputs": [],
   "source": [
    "def average(name_1):\n",
    "    for x in s:\n",
    "        if x.name == name_1:\n",
    "            print(x.average())\n",
    "            return\n",
    "        else:\n",
    "            print(\"No student with that name exists\")\n"
   ]
  },
  {
   "cell_type": "code",
   "execution_count": 144,
   "metadata": {},
   "outputs": [
    {
     "name": "stdout",
     "output_type": "stream",
     "text": [
      "1.0\n"
     ]
    }
   ],
   "source": [
    "add_student()\n",
    "average(\"asad\")"
   ]
  }
 ],
 "metadata": {
  "kernelspec": {
   "display_name": "Python 3",
   "language": "python",
   "name": "python3"
  },
  "language_info": {
   "codemirror_mode": {
    "name": "ipython",
    "version": 3
   },
   "file_extension": ".py",
   "mimetype": "text/x-python",
   "name": "python",
   "nbconvert_exporter": "python",
   "pygments_lexer": "ipython3",
   "version": "3.12.4"
  }
 },
 "nbformat": 4,
 "nbformat_minor": 2
}
