{
  "cells": [
    {
      "cell_type": "markdown",
      "metadata": {
        "id": "view-in-github",
        "colab_type": "text"
      },
      "source": [
        "<a href=\"https://colab.research.google.com/github/asad-777/Piaic_Gen-Ai/blob/main/tool_calling.ipynb\" target=\"_parent\"><img src=\"https://colab.research.google.com/assets/colab-badge.svg\" alt=\"Open In Colab\"/></a>"
      ]
    },
    {
      "cell_type": "code",
      "execution_count": 77,
      "metadata": {
        "id": "2QDnp15B_5Fc"
      },
      "outputs": [],
      "source": [
        "!pip install langchain langchain_google_genai -q -U"
      ]
    },
    {
      "cell_type": "code",
      "execution_count": 78,
      "metadata": {
        "id": "gy4as7pqBkay"
      },
      "outputs": [],
      "source": [
        "from google.colab import userdata\n",
        "api_key=userdata.get(\"GEMINI_API_KEY\")"
      ]
    },
    {
      "cell_type": "code",
      "execution_count": 79,
      "metadata": {
        "id": "LoNaozxpKe_H"
      },
      "outputs": [],
      "source": [
        "from langchain_google_genai import ChatGoogleGenerativeAI"
      ]
    },
    {
      "cell_type": "code",
      "execution_count": 80,
      "metadata": {
        "id": "hl-NiWQ_XSX2"
      },
      "outputs": [],
      "source": [
        "llm = ChatGoogleGenerativeAI(\n",
        "    api_key = api_key,\n",
        "    model = \"gemini-1.5-flash\"\n",
        ")"
      ]
    },
    {
      "cell_type": "code",
      "execution_count": 81,
      "metadata": {
        "id": "xUYLq6wbQpbL"
      },
      "outputs": [],
      "source": [
        "from langchain_core.tools import tool\n",
        "import requests\n",
        "\n",
        "@tool\n",
        "def get_coordinates(location:str)->str:\n",
        "    \"\"\"Get latitude and longitude for a location using Open-Meteo Geocoding API\"\"\"\n",
        "    geocoding_url = f\"https://geocoding-api.open-meteo.com/v1/search?name={location}&count=1&language=en&format=json\"\n",
        "    try:\n",
        "        response = requests.get(geocoding_url)\n",
        "        response.raise_for_status()\n",
        "        data = response.json()\n",
        "        if data.get(\"results\"):\n",
        "            return data[\"results\"][0][\"latitude\"], data[\"results\"][0][\"longitude\"]\n",
        "        return None\n",
        "    except Exception as e:\n",
        "      return None"
      ]
    },
    {
      "cell_type": "code",
      "execution_count": 82,
      "metadata": {
        "id": "5Xu6nVW7On5F"
      },
      "outputs": [],
      "source": [
        "tools = [get_coordinates]\n",
        "llm_with_tools = llm.bind_tools(tools)"
      ]
    },
    {
      "cell_type": "code",
      "execution_count": 83,
      "metadata": {
        "id": "_8kD6_RtUeN6"
      },
      "outputs": [],
      "source": [
        "from langchain_core.messages import HumanMessage, AIMessage"
      ]
    },
    {
      "cell_type": "code",
      "execution_count": 84,
      "metadata": {
        "id": "ZPuXJFkoTHzC"
      },
      "outputs": [],
      "source": [
        "query:str = \"What are the coordinates of lahore ?\""
      ]
    },
    {
      "cell_type": "code",
      "execution_count": 85,
      "metadata": {
        "id": "8N4DS9inUh_q"
      },
      "outputs": [],
      "source": [
        "messages = [HumanMessage(query)]"
      ]
    },
    {
      "cell_type": "code",
      "execution_count": 86,
      "metadata": {
        "id": "ITBQuj5sQZV-"
      },
      "outputs": [],
      "source": [
        "ai_msg_tools = llm_with_tools.invoke(query)"
      ]
    },
    {
      "cell_type": "code",
      "execution_count": 87,
      "metadata": {
        "id": "adi908hSUnEx"
      },
      "outputs": [],
      "source": [
        "messages.append(ai_msg_tools)"
      ]
    },
    {
      "cell_type": "code",
      "execution_count": 88,
      "metadata": {
        "id": "5VNjtnbgQ-Le"
      },
      "outputs": [],
      "source": [
        "from langchain_core.messages import HumanMessage, AIMessage\n",
        "for tool_call in ai_msg_tools.tool_calls:\n",
        "    selected_tool = {\n",
        "      \"get_coordinates\":get_coordinates\n",
        "      }[tool_call[\"name\"].lower()]\n",
        "    tool_msg = selected_tool.invoke(tool_call)"
      ]
    },
    {
      "cell_type": "code",
      "execution_count": 89,
      "metadata": {
        "id": "CqLyZUc6VoGw"
      },
      "outputs": [],
      "source": [
        "messages.append(tool_msg)"
      ]
    },
    {
      "cell_type": "code",
      "execution_count": 90,
      "metadata": {
        "id": "JiTdQv3fSSmd"
      },
      "outputs": [],
      "source": [
        "response = llm_with_tools.invoke(messages)"
      ]
    },
    {
      "cell_type": "code",
      "execution_count": 91,
      "metadata": {
        "id": "nrbS4mzNSUFz",
        "colab": {
          "base_uri": "https://localhost:8080/"
        },
        "outputId": "50b82df3-13f5-4193-da22-874592e28e0c"
      },
      "outputs": [
        {
          "output_type": "stream",
          "name": "stdout",
          "text": [
            "The coordinates of Lahore are 31.558° N, 74.35071° E.\n"
          ]
        }
      ],
      "source": [
        "print(response.content)"
      ]
    }
  ],
  "metadata": {
    "colab": {
      "provenance": [],
      "authorship_tag": "ABX9TyMXsneglcCbRktTjSSx0SUi",
      "include_colab_link": true
    },
    "kernelspec": {
      "display_name": "Python 3",
      "name": "python3"
    },
    "language_info": {
      "name": "python"
    }
  },
  "nbformat": 4,
  "nbformat_minor": 0
}