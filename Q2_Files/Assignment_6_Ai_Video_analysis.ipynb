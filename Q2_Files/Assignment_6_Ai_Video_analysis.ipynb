{
  "nbformat": 4,
  "nbformat_minor": 0,
  "metadata": {
    "colab": {
      "provenance": [],
      "authorship_tag": "ABX9TyOIE9bKoyXNPqEDJEhWOQcJ",
      "include_colab_link": true
    },
    "kernelspec": {
      "name": "python3",
      "display_name": "Python 3"
    },
    "language_info": {
      "name": "python"
    }
  },
  "cells": [
    {
      "cell_type": "markdown",
      "metadata": {
        "id": "view-in-github",
        "colab_type": "text"
      },
      "source": [
        "<a href=\"https://colab.research.google.com/github/asad-777/Piaic_Gen-Ai/blob/main/Assignment_6_Ai_Video_analysis.ipynb\" target=\"_parent\"><img src=\"https://colab.research.google.com/assets/colab-badge.svg\" alt=\"Open In Colab\"/></a>"
      ]
    },
    {
      "cell_type": "code",
      "execution_count": null,
      "metadata": {
        "colab": {
          "base_uri": "https://localhost:8080/"
        },
        "id": "32Kp9MPk9UbS",
        "outputId": "cf3e6846-d9ff-47f6-c0a6-1ea0a0468ca4"
      },
      "outputs": [
        {
          "output_type": "stream",
          "name": "stdout",
          "text": [
            "\u001b[?25l   \u001b[90m━━━━━━━━━━━━━━━━━━━━━━━━━━━━━━━━━━━━━━━━\u001b[0m \u001b[32m0.0/1.0 MB\u001b[0m \u001b[31m?\u001b[0m eta \u001b[36m-:--:--\u001b[0m\r\u001b[2K   \u001b[91m━━━━━━━\u001b[0m\u001b[91m╸\u001b[0m\u001b[90m━━━━━━━━━━━━━━━━━━━━━━━━━━━━━━━━\u001b[0m \u001b[32m0.2/1.0 MB\u001b[0m \u001b[31m6.4 MB/s\u001b[0m eta \u001b[36m0:00:01\u001b[0m\r\u001b[2K   \u001b[91m━━━━━━━━━━━━━━━━━━━━━━━━━━━━━━━━━━━━━━━\u001b[0m\u001b[91m╸\u001b[0m \u001b[32m1.0/1.0 MB\u001b[0m \u001b[31m16.0 MB/s\u001b[0m eta \u001b[36m0:00:01\u001b[0m\r\u001b[2K   \u001b[90m━━━━━━━━━━━━━━━━━━━━━━━━━━━━━━━━━━━━━━━━\u001b[0m \u001b[32m1.0/1.0 MB\u001b[0m \u001b[31m13.3 MB/s\u001b[0m eta \u001b[36m0:00:00\u001b[0m\n",
            "\u001b[?25h\u001b[?25l   \u001b[90m━━━━━━━━━━━━━━━━━━━━━━━━━━━━━━━━━━━━━━━━\u001b[0m \u001b[32m0.0/41.3 kB\u001b[0m \u001b[31m?\u001b[0m eta \u001b[36m-:--:--\u001b[0m\r\u001b[2K   \u001b[90m━━━━━━━━━━━━━━━━━━━━━━━━━━━━━━━━━━━━━━━━\u001b[0m \u001b[32m41.3/41.3 kB\u001b[0m \u001b[31m3.4 MB/s\u001b[0m eta \u001b[36m0:00:00\u001b[0m\n",
            "\u001b[?25h\u001b[?25l   \u001b[90m━━━━━━━━━━━━━━━━━━━━━━━━━━━━━━━━━━━━━━━━\u001b[0m \u001b[32m0.0/411.6 kB\u001b[0m \u001b[31m?\u001b[0m eta \u001b[36m-:--:--\u001b[0m\r\u001b[2K   \u001b[90m━━━━━━━━━━━━━━━━━━━━━━━━━━━━━━━━━━━━━━━━\u001b[0m \u001b[32m411.6/411.6 kB\u001b[0m \u001b[31m31.6 MB/s\u001b[0m eta \u001b[36m0:00:00\u001b[0m\n",
            "\u001b[?25h"
          ]
        }
      ],
      "source": [
        "!pip install langchain google_genai langchain_google_genai -q -U"
      ]
    },
    {
      "cell_type": "markdown",
      "source": [
        "# **Prompt**\n",
        "A sleek sports car driving through a futuristic neon-lit city at night, with glowing lights reflecting off the car's surface. The car speeds past towering skyscrapers, weaving through traffic with cinematic slow-motion shots. Add dynamic camera angles, smooth transitions, and a high-tech, cyberpunk aesthetic. Background music: upbeat electronic synthwave, matching the futuristic vibe."
      ],
      "metadata": {
        "id": "JEpKuHh-98sp"
      }
    },
    {
      "cell_type": "markdown",
      "source": [
        "# **Link to actual video used here**\n",
        "https://drive.google.com/file/d/1NZlBKYUZ86F7ilJa9JC7X5BvYk8iU5Q9/view?usp=sharing"
      ],
      "metadata": {
        "id": "zV_IWsFgI6By"
      }
    },
    {
      "cell_type": "code",
      "source": [
        "from google.colab import userdata\n",
        "import os\n",
        "os.environ[\"GEMINI_API_KEY\"] = userdata.get('GEMINI_API_KEY')\n",
        "api_key = userdata.get('GEMINI_API_KEY')"
      ],
      "metadata": {
        "id": "5WdsCnIg-Cy4"
      },
      "execution_count": 6,
      "outputs": []
    },
    {
      "cell_type": "code",
      "source": [
        "from langchain_google_genai import ChatGoogleGenerativeAI\n",
        "from google import genai\n",
        "from google.genai import Client\n",
        "from google.genai.types import Content, Part\n",
        "import time"
      ],
      "metadata": {
        "id": "Sx_MYhum9-Aq"
      },
      "execution_count": 12,
      "outputs": []
    },
    {
      "cell_type": "code",
      "source": [
        "client = genai.Client(\n",
        "    api_key=api_key\n",
        ")\n",
        "model = \"gemini-2.0-flash-exp\""
      ],
      "metadata": {
        "id": "cDhmGqOW_ri7"
      },
      "execution_count": 11,
      "outputs": []
    },
    {
      "cell_type": "code",
      "source": [
        "llm = ChatGoogleGenerativeAI(\n",
        "    model = \"gemini-2.0-flash-exp\",\n",
        "    api_key= userdata.get(\"GEMINI_API_KEY\"),\n",
        "    temperature=0.7\n",
        ")"
      ],
      "metadata": {
        "id": "MKiojOAL-YdC"
      },
      "execution_count": 5,
      "outputs": []
    },
    {
      "cell_type": "code",
      "source": [
        "import gdown\n",
        "\n",
        "# Extract the file ID from the link\n",
        "file_id = \"1NZlBKYUZ86F7ilJa9JC7X5BvYk8iU5Q9\"\n",
        "video_path = f\"https://drive.google.com/uc?id={file_id}\"\n",
        "\n",
        "output_path = '/content/video_out.mp4'\n",
        "\n",
        "gdown.download(video_path, output_path, quiet=True)\n",
        "\n",
        "print(f\"Video downloaded successfully: {output_path}\")\n"
      ],
      "metadata": {
        "colab": {
          "base_uri": "https://localhost:8080/"
        },
        "id": "ZVU5Ityk_Cr9",
        "outputId": "eda5491f-1ccf-4bf9-db13-13e80b2bfb13"
      },
      "execution_count": 19,
      "outputs": [
        {
          "output_type": "stream",
          "name": "stdout",
          "text": [
            "Video downloaded successfully: /content/video_out.mp4\n"
          ]
        }
      ]
    },
    {
      "cell_type": "code",
      "source": [
        "video_file_name = \"/content/video_out.mp4\""
      ],
      "metadata": {
        "id": "lsTRAVGC_bjU"
      },
      "execution_count": 20,
      "outputs": []
    },
    {
      "cell_type": "code",
      "source": [
        "def upload_video(video_file_name):\n",
        "  video_file = client.files.upload(path=video_file_name)\n",
        "  while video_file.state == \"PROCESSING\":\n",
        "    print(\"Please Wait !\")\n",
        "    time.sleep(5)\n",
        "    video_file = client.files.get(name=video_file.name or \"\")\n",
        "\n",
        "  if video_file.state == \"FAILED\":\n",
        "    raise ValueError(video_file.state)\n",
        "  print(\"Video processing complete\", (video_file.uri or \"\"))\n",
        "\n",
        "  return video_file\n",
        "\n",
        "my_vid = upload_video(video_file_name)"
      ],
      "metadata": {
        "colab": {
          "base_uri": "https://localhost:8080/"
        },
        "id": "E_jUgOIc_Aka",
        "outputId": "6507a13f-0edb-4e9c-d095-7911419b104a"
      },
      "execution_count": 21,
      "outputs": [
        {
          "output_type": "stream",
          "name": "stdout",
          "text": [
            "Please Wait !\n",
            "Please Wait !\n",
            "Video processing complete https://generativelanguage.googleapis.com/v1beta/files/ibcvp61ob0tf\n"
          ]
        }
      ]
    },
    {
      "cell_type": "code",
      "source": [
        "def analyze_video_with_langchain(video_file):\n",
        "  prompt_template = \"\"\"\n",
        "  For each scene in this video,\n",
        "  generate captions that describe the scene along with any spoken text placed in quotation marks.\n",
        "  Place each caption into an object with the timecode of the caption in the video.\n",
        "         \"\"\"\n",
        "\n",
        "  response = client.models.generate_content(\n",
        "    model=\"gemini-2.0-flash-exp\",\n",
        "    contents=[\n",
        "        Content(\n",
        "            role=\"user\",\n",
        "            parts=[\n",
        "                Part.from_uri(\n",
        "                    file_uri=video_file.uri or \"\",\n",
        "                    mime_type=video_file.mime_type or \"\"),\n",
        "            ]),\n",
        "        Content(\n",
        "            role=\"user\",\n",
        "            parts=[Part(text=prompt_template)]\n",
        "        )\n",
        "    ]\n",
        "  )\n",
        "  print(\"Video Analysis:\")\n",
        "  display(Markdown(response.text))\n"
      ],
      "metadata": {
        "id": "JFDG8cB6Ifg6"
      },
      "execution_count": 22,
      "outputs": []
    },
    {
      "cell_type": "code",
      "source": [
        "analyze_video_with_langchain(my_vid)"
      ],
      "metadata": {
        "colab": {
          "base_uri": "https://localhost:8080/",
          "height": 1000
        },
        "id": "Li_yVaSPIqAR",
        "outputId": "f6c61711-ee42-4dff-e9f4-1b13d89720f5"
      },
      "execution_count": 23,
      "outputs": [
        {
          "output_type": "stream",
          "name": "stdout",
          "text": [
            "Video Analysis:\n"
          ]
        },
        {
          "output_type": "display_data",
          "data": {
            "text/plain": [
              "<IPython.core.display.Markdown object>"
            ],
            "text/markdown": "```json\n[\n  {\n    \"timecode\": \"0:00\",\n    \"caption\": \"A view from behind a futuristic-looking car, with neon purple and blue lights, with an iStock watermark on top. Spoken text: “If you don’t like slow and steady but still crave the rush, then hit the gas and let’s fly through the neon jungle.”\"\n  },\n  {\n    \"timecode\": \"0:05\",\n    \"caption\": \"A view from the front of a purple car with white headlights, with a storyblocks watermark. Spoken text: “Picture this, a sleek futuristic sports car slicing through a city painted with neon lights and towering skyscrapers.”\"\n  },\n   {\n    \"timecode\": \"0:08\",\n    \"caption\": \"A view from behind a green car, driving on a green street, with a storyblocks watermark. Spoken text: “The engine roars like a beast unleashed, as the car weaves through traffic with effortless precision.”\"\n  },\n  {\n    \"timecode\": \"0:14\",\n    \"caption\": \"A silver car with white side highlights, driving on a blue street, with a storyblocks watermark. Spoken text: “Feel the adrenaline as it rounds sharp corners in cinematic slow motion.”\"\n  },\n  {\n    \"timecode\": \"0:17\",\n    \"caption\": \"A silver car with dark red highlights, on a blue street, with a storyblocks watermark. Spoken text: “The glowing lights reflecting off every curve and contour.”\"\n  },\n    {\n    \"timecode\": \"0:20\",\n   \"caption\": \"A black car is surrounded by neon pink and white lines, with a storyblocks watermark. Spoken text: “The city's pulse matches the beat of the synth wave soundtrack.”\"\n  },\n  {\n    \"timecode\": \"0:23\",\n  \"caption\": \"A car's glowing headlight and tire, with a storyblocks watermark. Spoken text: “Creating an electrifying symphony of speed and style.”\"\n    },\n  {\n    \"timecode\": \"0:27\",\n     \"caption\": \"A dark blue car is driving on a reflective purple street, with palm trees and a mountainous background, with a storyblocks watermark. Spoken text: “You're not just watching a chase, you're living it.”\"\n  },\n  {\n    \"timecode\": \"0:30\",\n     \"caption\": \"A black car is driving down a purple street with neon highlights, with a storyblocks watermark. Spoken text: “Every twist, every turn, every heartbeat is a rush of pure exhilaration.”\"\n    },\n     {\n    \"timecode\": \"0:34\",\n    \"caption\": \"A dark car is driving on a red street with neon highlights, with a storyblocks watermark. Spoken text: “This is not just a drive, it's an experience, a high-speed dance through a cyberpunk dreamscape.”\"\n   },\n  {\n    \"timecode\": \"0:42\",\n     \"caption\": \"A yellow low poly ship with a trail, over a blue gridded background, with an iStock watermark.\"\n  },\n  {\n    \"timecode\": \"0:43\",\n     \"caption\": \"A dark silhouetted figure over a background of green text, with an iStock watermark. Spoken text: “So, are you ready to feel the thrill?”\"\n    },\n  {\n    \"timecode\": \"0:48\",\n    \"caption\": \"An orange liquid swirl with white lines, with an iStock watermark. Spoken text: “Welcome to the future of high-speed chases.”\"\n  },\n    {\n      \"timecode\": \"0:51\",\n        \"caption\": \"A white outline of a series of polygons over a blurred background, with an iStock watermark.\"\n    },\n    {\n      \"timecode\": \"0:54\",\n    \"caption\": \"A white car is in the center of a circular platform with a city visible in the background, with an iStock watermark. Spoken text: “Welcome to the neon streets.”\"\n  },\n    {\n    \"timecode\": \"0:56\",\n        \"caption\": \"The invideo AI logo on a black background\"\n    }\n]\n```"
          },
          "metadata": {}
        }
      ]
    },
    {
      "cell_type": "code",
      "source": [
        "def analyze_video_prompt_finder(video_file):\n",
        "  prompt_template = \"\"\"\n",
        "  This video was generated by Invideo ai, try to find the prompt that was given to invideo ai to generate this video,tip: the prompt was generated by chatgpt\n",
        "         \"\"\"\n",
        "\n",
        "  response = client.models.generate_content(\n",
        "    model=\"gemini-2.0-flash-exp\",\n",
        "    contents=[\n",
        "        Content(\n",
        "            role=\"user\",\n",
        "            parts=[\n",
        "                Part.from_uri(\n",
        "                    file_uri=video_file.uri or \"\",\n",
        "                    mime_type=video_file.mime_type or \"\"),\n",
        "            ]),\n",
        "        Content(\n",
        "            role=\"user\",\n",
        "            parts=[Part(text=prompt_template)]\n",
        "        )\n",
        "    ]\n",
        "  )\n",
        "  display(Markdown(response.text))"
      ],
      "metadata": {
        "id": "gRcTpXsdJCNS"
      },
      "execution_count": 31,
      "outputs": []
    },
    {
      "cell_type": "code",
      "source": [
        "analyze_video_prompt_finder(my_vid)"
      ],
      "metadata": {
        "colab": {
          "base_uri": "https://localhost:8080/",
          "height": 156
        },
        "id": "UsqhO8XBJRTC",
        "outputId": "61543d05-a6ba-427f-8136-b033f5019cf8"
      },
      "execution_count": 32,
      "outputs": [
        {
          "output_type": "display_data",
          "data": {
            "text/plain": [
              "<IPython.core.display.Markdown object>"
            ],
            "text/markdown": "Certainly! Based on the video's content, including the futuristic cars, neon-lit cyberpunk cityscapes, and synth-wave soundtrack, along with the themes of high-speed chases, the prompt likely sounded something like this:\n\n\"Create a video showcasing a futuristic sports car speeding through a cyberpunk city filled with neon lights and skyscrapers. The video should convey a sense of speed, exhilaration, and a high-stakes chase. Use a synth-wave soundtrack and geometric, mesh-like overlays for a retro-futuristic feel. Transition from shots of the car moving quickly through the city to close-ups of its sleek design, showcasing the car’s movement. Include some slow-motion shots to enhance the visual impact. The video should give a feel of being in a high speed chase in a cyberpunk city with a synth-wave soundtrack. The city should feature a grid like road and have retro styled palm trees and sunsets.\""
          },
          "metadata": {}
        }
      ]
    }
  ]
}