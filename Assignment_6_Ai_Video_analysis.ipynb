{
  "nbformat": 4,
  "nbformat_minor": 0,
  "metadata": {
    "colab": {
      "provenance": [],
      "authorship_tag": "ABX9TyPcvw7grjONz12eX91H9z3S",
      "include_colab_link": true
    },
    "kernelspec": {
      "name": "python3",
      "display_name": "Python 3"
    },
    "language_info": {
      "name": "python"
    }
  },
  "cells": [
    {
      "cell_type": "markdown",
      "metadata": {
        "id": "view-in-github",
        "colab_type": "text"
      },
      "source": [
        "<a href=\"https://colab.research.google.com/github/asad-777/Piaic_Gen-Ai/blob/main/Assignment_6_Ai_Video_analysis.ipynb\" target=\"_parent\"><img src=\"https://colab.research.google.com/assets/colab-badge.svg\" alt=\"Open In Colab\"/></a>"
      ]
    },
    {
      "cell_type": "code",
      "execution_count": null,
      "metadata": {
        "colab": {
          "base_uri": "https://localhost:8080/"
        },
        "id": "32Kp9MPk9UbS",
        "outputId": "cf3e6846-d9ff-47f6-c0a6-1ea0a0468ca4"
      },
      "outputs": [
        {
          "output_type": "stream",
          "name": "stdout",
          "text": [
            "\u001b[?25l   \u001b[90m━━━━━━━━━━━━━━━━━━━━━━━━━━━━━━━━━━━━━━━━\u001b[0m \u001b[32m0.0/1.0 MB\u001b[0m \u001b[31m?\u001b[0m eta \u001b[36m-:--:--\u001b[0m\r\u001b[2K   \u001b[91m━━━━━━━\u001b[0m\u001b[91m╸\u001b[0m\u001b[90m━━━━━━━━━━━━━━━━━━━━━━━━━━━━━━━━\u001b[0m \u001b[32m0.2/1.0 MB\u001b[0m \u001b[31m6.4 MB/s\u001b[0m eta \u001b[36m0:00:01\u001b[0m\r\u001b[2K   \u001b[91m━━━━━━━━━━━━━━━━━━━━━━━━━━━━━━━━━━━━━━━\u001b[0m\u001b[91m╸\u001b[0m \u001b[32m1.0/1.0 MB\u001b[0m \u001b[31m16.0 MB/s\u001b[0m eta \u001b[36m0:00:01\u001b[0m\r\u001b[2K   \u001b[90m━━━━━━━━━━━━━━━━━━━━━━━━━━━━━━━━━━━━━━━━\u001b[0m \u001b[32m1.0/1.0 MB\u001b[0m \u001b[31m13.3 MB/s\u001b[0m eta \u001b[36m0:00:00\u001b[0m\n",
            "\u001b[?25h\u001b[?25l   \u001b[90m━━━━━━━━━━━━━━━━━━━━━━━━━━━━━━━━━━━━━━━━\u001b[0m \u001b[32m0.0/41.3 kB\u001b[0m \u001b[31m?\u001b[0m eta \u001b[36m-:--:--\u001b[0m\r\u001b[2K   \u001b[90m━━━━━━━━━━━━━━━━━━━━━━━━━━━━━━━━━━━━━━━━\u001b[0m \u001b[32m41.3/41.3 kB\u001b[0m \u001b[31m3.4 MB/s\u001b[0m eta \u001b[36m0:00:00\u001b[0m\n",
            "\u001b[?25h\u001b[?25l   \u001b[90m━━━━━━━━━━━━━━━━━━━━━━━━━━━━━━━━━━━━━━━━\u001b[0m \u001b[32m0.0/411.6 kB\u001b[0m \u001b[31m?\u001b[0m eta \u001b[36m-:--:--\u001b[0m\r\u001b[2K   \u001b[90m━━━━━━━━━━━━━━━━━━━━━━━━━━━━━━━━━━━━━━━━\u001b[0m \u001b[32m411.6/411.6 kB\u001b[0m \u001b[31m31.6 MB/s\u001b[0m eta \u001b[36m0:00:00\u001b[0m\n",
            "\u001b[?25h"
          ]
        }
      ],
      "source": [
        "!pip install langchain google_genai langchain_google_genai -q -U"
      ]
    },
    {
      "cell_type": "markdown",
      "source": [
        "# **Prompt**\n",
        "A sleek sports car driving through a futuristic neon-lit city at night, with glowing lights reflecting off the car's surface. The car speeds past towering skyscrapers, weaving through traffic with cinematic slow-motion shots. Add dynamic camera angles, smooth transitions, and a high-tech, cyberpunk aesthetic. Background music: upbeat electronic synthwave, matching the futuristic vibe."
      ],
      "metadata": {
        "id": "JEpKuHh-98sp"
      }
    },
    {
      "cell_type": "markdown",
      "source": [
        "# **Link to actual video used here**\n",
        "https://drive.google.com/file/d/1NZlBKYUZ86F7ilJa9JC7X5BvYk8iU5Q9/view?usp=sharing"
      ],
      "metadata": {
        "id": "zV_IWsFgI6By"
      }
    },
    {
      "cell_type": "code",
      "source": [
        "from google.colab import userdata\n",
        "import os\n",
        "os.environ[\"GEMINI_API_KEY\"] = userdata.get('GEMINI_API_KEY')\n",
        "api_key = userdata.get('GEMINI_API_KEY')"
      ],
      "metadata": {
        "id": "5WdsCnIg-Cy4"
      },
      "execution_count": 6,
      "outputs": []
    },
    {
      "cell_type": "code",
      "source": [
        "from langchain_google_genai import ChatGoogleGenerativeAI\n",
        "from google import genai\n",
        "from google.genai import Client\n",
        "from google.genai.types import Content, Part\n",
        "import time"
      ],
      "metadata": {
        "id": "Sx_MYhum9-Aq"
      },
      "execution_count": 12,
      "outputs": []
    },
    {
      "cell_type": "code",
      "source": [
        "client = genai.Client(\n",
        "    api_key=api_key\n",
        ")"
      ],
      "metadata": {
        "id": "cDhmGqOW_ri7"
      },
      "execution_count": 33,
      "outputs": []
    },
    {
      "cell_type": "code",
      "source": [
        "import gdown\n",
        "\n",
        "# Extract the file ID from the link\n",
        "file_id = \"1NZlBKYUZ86F7ilJa9JC7X5BvYk8iU5Q9\"\n",
        "video_path = f\"https://drive.google.com/uc?id={file_id}\"\n",
        "\n",
        "output_path = '/content/video_out.mp4'\n",
        "\n",
        "gdown.download(video_path, output_path, quiet=True)\n",
        "\n",
        "print(f\"Video downloaded successfully: {output_path}\")\n"
      ],
      "metadata": {
        "colab": {
          "base_uri": "https://localhost:8080/"
        },
        "id": "ZVU5Ityk_Cr9",
        "outputId": "eda5491f-1ccf-4bf9-db13-13e80b2bfb13"
      },
      "execution_count": 19,
      "outputs": [
        {
          "output_type": "stream",
          "name": "stdout",
          "text": [
            "Video downloaded successfully: /content/video_out.mp4\n"
          ]
        }
      ]
    },
    {
      "cell_type": "code",
      "source": [
        "video_file_name = \"/content/video_out.mp4\""
      ],
      "metadata": {
        "id": "lsTRAVGC_bjU"
      },
      "execution_count": 20,
      "outputs": []
    },
    {
      "cell_type": "code",
      "source": [
        "def upload_video(video_file_name):\n",
        "  video_file = client.files.upload(path=video_file_name)\n",
        "  while video_file.state == \"PROCESSING\":\n",
        "    print(\"Please Wait !\")\n",
        "    time.sleep(5)\n",
        "    video_file = client.files.get(name=video_file.name or \"\")\n",
        "\n",
        "  if video_file.state == \"FAILED\":\n",
        "    raise ValueError(video_file.state)\n",
        "  print(\"Video processing complete\", (video_file.uri or \"\"))\n",
        "\n",
        "  return video_file\n",
        "\n",
        "my_vid = upload_video(video_file_name)"
      ],
      "metadata": {
        "colab": {
          "base_uri": "https://localhost:8080/"
        },
        "id": "E_jUgOIc_Aka",
        "outputId": "6507a13f-0edb-4e9c-d095-7911419b104a"
      },
      "execution_count": 21,
      "outputs": [
        {
          "output_type": "stream",
          "name": "stdout",
          "text": [
            "Please Wait !\n",
            "Please Wait !\n",
            "Video processing complete https://generativelanguage.googleapis.com/v1beta/files/ibcvp61ob0tf\n"
          ]
        }
      ]
    },
    {
      "cell_type": "code",
      "source": [
        "def analyze_video_with_langchain(video_file):\n",
        "  prompt_template = \"\"\"\n",
        "  For each scene in this video,\n",
        "  generate captions that describe the scene along with any spoken text placed in quotation marks.\n",
        "  Place each caption into an object with the timecode of the caption in the video.\n",
        "         \"\"\"\n",
        "\n",
        "  response = client.models.generate_content(\n",
        "    model=\"gemini-2.0-flash-exp\",\n",
        "    contents=[\n",
        "        Content(\n",
        "            role=\"user\",\n",
        "            parts=[\n",
        "                Part.from_uri(\n",
        "                    file_uri=video_file.uri or \"\",\n",
        "                    mime_type=video_file.mime_type or \"\"),\n",
        "            ]),\n",
        "        Content(\n",
        "            role=\"user\",\n",
        "            parts=[Part(text=prompt_template)]\n",
        "        )\n",
        "    ]\n",
        "  )\n",
        "  print(\"Video Analysis:\")\n",
        "  display(Markdown(response.text))\n"
      ],
      "metadata": {
        "id": "JFDG8cB6Ifg6"
      },
      "execution_count": 34,
      "outputs": []
    },
    {
      "cell_type": "code",
      "source": [
        "analyze_video_with_langchain(my_vid)"
      ],
      "metadata": {
        "colab": {
          "base_uri": "https://localhost:8080/",
          "height": 1000
        },
        "id": "Li_yVaSPIqAR",
        "outputId": "883d9b85-6573-43cd-fcbd-78915829e729"
      },
      "execution_count": 35,
      "outputs": [
        {
          "output_type": "stream",
          "name": "stdout",
          "text": [
            "Video Analysis:\n"
          ]
        },
        {
          "output_type": "display_data",
          "data": {
            "text/plain": [
              "<IPython.core.display.Markdown object>"
            ],
            "text/markdown": "```json\n[\n    {\n        \"timecode\": \"00:00\",\n        \"caption\": \"The rear view of a car with a spoiler, driving toward a city made of tall buildings with pink and blue neon lights. A web of lines appear over the scene. The iStock logo is in the center.\"\n    },\n    {\n        \"timecode\": \"00:00\",\n      \"caption\": \"A car drives away from the camera toward a city of tall buildings with pink and blue neon lights. A web of lines appear over the scene. The words \\\"invideo/asad\\\" are in the upper right corner. The iStock logo is in the center. \\\"If you don't like slow and steady but still crave the rush then hit the gas and let's fly through the neon jungle.\\\"\"\n    },\n    {\n        \"timecode\": \"00:05\",\n      \"caption\": \"A front-on view of a car, with a web of lines over the scene, driving through a space with purple neon lines. The words \\\"invideo/asad\\\" appear in the top right corner and \\\"Storyblocks\\\" appear in the lower right. \\\"Picture this, a sleek futuristic sports car slicing through a city painted with neon lights and towering skyscrapers.\\\"\"\n    },\n    {\n        \"timecode\":\"00:08\",\n        \"caption\":\"The rear view of a black car driving down a street toward a sun setting, and green neon lights in a retro style. The words \\\"Storyblocks\\\" appear in the lower right. \\\"The engine roars like a beast unleashed as the car weaves through traffic with effortless precision.\\\"\"\n    },\n       {\n        \"timecode\":\"00:13\",\n        \"caption\":\"A side-on view of a car driving fast through a space with purple neon lines. The words \\\"Storyblocks\\\" appear in the lower right. The words \\\"invideo/asad\\\" appear in the top right. \\\"Feel the adrenaline as it rounds sharp corners in cinematic slow motion.\\\"\"\n      },\n    {\n      \"timecode\": \"00:17\",\n      \"caption\": \"A close-up front view of a car with glowing lights on, in a space with purple neon lights. The words \\\"invideo/asad\\\" appear in the top right corner, and \\\"Storyblocks\\\" appear in the lower right. \\\"The glowing lights reflecting off every curve and contour.\\\"\"\n      },\n {\n        \"timecode\":\"00:23\",\n        \"caption\":\"A close-up view of the back of a car with glowing lights on, through a web of white lines. The words \\\"Storyblocks\\\" appear in the lower right. \\\"The city's pulse matches the beat of the synthwave soundtrack, creating an electrifying symphony of speed and style.\\\"\"\n    },\n{\n      \"timecode\": \"00:27\",\n      \"caption\": \"A rear view of a blue car with glowing lights, driving on a reflective surface through palm trees and geometric mountain shapes. The words \\\"invideo/asad\\\" appear in the top right corner, and \\\"Storyblocks\\\" appear in the lower right.\"\n    },\n    {\n       \"timecode\": \"00:30\",\n        \"caption\": \"A rear view of a car driving down a street with tall buildings and neon lights on both sides and a pink sunset in the distance. The words \\\"invideo/asad\\\" appear in the top right corner, and \\\"Storyblocks\\\" appear in the lower right.\"\n        },\n     {\n        \"timecode\": \"00:34\",\n      \"caption\": \"A rear view of a car driving down a wet street through a tunnel of neon lights. The words \\\"Storyblocks\\\" appear in the lower right. \\\"You're not just watching a chase, you're living it. Every twist, every turn, every heartbeat is a rush of pure exhilaration.\\\"\"\n    },\n      {\n        \"timecode\":\"00:42\",\n        \"caption\":\"A lime green spaceship sits in the middle of a wireframe grid. The iStock logo appears in the upper left.\"\n    },\n     {\n      \"timecode\":\"00:43\",\n        \"caption\":\"A hooded figure stands in front of a stream of binary code on a green background. The words \\\"invideo/asad\\\" are in the upper right corner. The iStock logo appears in the center. \\\"This is not just a drive, it's an experience, a high-speed dance through a cyberpunk dreamscape.\\\"\"\n    },\n    {\n      \"timecode\":\"00:48\",\n        \"caption\":\"A close-up of golden liquid with white lines running through it. The words \\\"invideo/asad\\\" appear in the upper right corner. The iStock logo appears in the center. \\\"So, are you ready to feel the thrill?\\\"\"\n    },\n     {\n        \"timecode\":\"00:51\",\n        \"caption\":\"A web of white lines in front of a light grey cloud. The iStock logo appears in the center. \\\"Welcome to the future of high-speed chases, welcome to the neon streets.\\\"\"\n     },\n    {\n      \"timecode\":\"00:55\",\n      \"caption\":\"A white car on a spinning platform in a modern room with a city visible in the distance. The iStock logo is in the center.\"\n    },\n      {\n        \"timecode\":\"00:56\",\n        \"caption\":\"The text \\\"invideo AI\\\" with a glowing light appears on a black screen.\"\n    },\n    {\n        \"timecode\":\"00:57\",\n         \"caption\":\"A logo of a fish with the words \\\"invideo AI\\\" appears on a black screen.\"\n    }\n]\n```"
          },
          "metadata": {}
        }
      ]
    },
    {
      "cell_type": "code",
      "source": [
        "def analyze_video_prompt_finder(video_file):\n",
        "  prompt_template = \"\"\"\n",
        "  This video was generated by Invideo ai, try to find the prompt that was given to invideo ai to generate this video,tip: the prompt was generated by chatgpt\n",
        "         \"\"\"\n",
        "\n",
        "  response = client.models.generate_content(\n",
        "    model=\"gemini-2.0-flash-exp\",\n",
        "    contents=[\n",
        "        Content(\n",
        "            role=\"user\",\n",
        "            parts=[\n",
        "                Part.from_uri(\n",
        "                    file_uri=video_file.uri or \"\",\n",
        "                    mime_type=video_file.mime_type or \"\"),\n",
        "            ]),\n",
        "        Content(\n",
        "            role=\"user\",\n",
        "            parts=[Part(text=prompt_template)]\n",
        "        )\n",
        "    ]\n",
        "  )\n",
        "  display(Markdown(response.text))"
      ],
      "metadata": {
        "id": "gRcTpXsdJCNS"
      },
      "execution_count": 31,
      "outputs": []
    },
    {
      "cell_type": "code",
      "source": [
        "analyze_video_prompt_finder(my_vid)"
      ],
      "metadata": {
        "colab": {
          "base_uri": "https://localhost:8080/",
          "height": 156
        },
        "id": "UsqhO8XBJRTC",
        "outputId": "61543d05-a6ba-427f-8136-b033f5019cf8"
      },
      "execution_count": 32,
      "outputs": [
        {
          "output_type": "display_data",
          "data": {
            "text/plain": [
              "<IPython.core.display.Markdown object>"
            ],
            "text/markdown": "Certainly! Based on the video's content, including the futuristic cars, neon-lit cyberpunk cityscapes, and synth-wave soundtrack, along with the themes of high-speed chases, the prompt likely sounded something like this:\n\n\"Create a video showcasing a futuristic sports car speeding through a cyberpunk city filled with neon lights and skyscrapers. The video should convey a sense of speed, exhilaration, and a high-stakes chase. Use a synth-wave soundtrack and geometric, mesh-like overlays for a retro-futuristic feel. Transition from shots of the car moving quickly through the city to close-ups of its sleek design, showcasing the car’s movement. Include some slow-motion shots to enhance the visual impact. The video should give a feel of being in a high speed chase in a cyberpunk city with a synth-wave soundtrack. The city should feature a grid like road and have retro styled palm trees and sunsets.\""
          },
          "metadata": {}
        }
      ]
    }
  ]
}